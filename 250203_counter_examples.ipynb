{
 "cells": [
  {
   "metadata": {},
   "cell_type": "markdown",
   "source": "# Counter examples",
   "id": "e76f030a3082c554"
  },
  {
   "metadata": {},
   "cell_type": "markdown",
   "source": [
    "Generates counterexamples for the Taiwan Assignment Mechanism (TAM) and the Chinese Parallel Mechanism (CPM) to show that neither necessarily converges to the student optimal stable matching.\n",
    "\n",
    "The TAM example is unstable and does not Pareto dominate the SOSM from the student perspective.\n",
    "\n",
    "The CPM example is unstable but does Pareto dominate the SOSM from the student perspective."
   ],
   "id": "c84077099cdb59ab"
  },
  {
   "metadata": {},
   "cell_type": "markdown",
   "source": "## Preliminaries & functions",
   "id": "6920eb17ab9fadc6"
  },
  {
   "metadata": {
    "collapsed": true,
    "ExecuteTime": {
     "end_time": "2025-02-05T17:38:01.059453Z",
     "start_time": "2025-02-05T17:38:00.951493Z"
    }
   },
   "cell_type": "code",
   "source": [
    "import pickle\n",
    "from tabulate import tabulate\n",
    "from TaiwanMechanism import *"
   ],
   "id": "initial_id",
   "outputs": [],
   "execution_count": 1
  },
  {
   "metadata": {
    "ExecuteTime": {
     "end_time": "2025-02-05T17:38:01.343645Z",
     "start_time": "2025-02-05T17:38:01.342057Z"
    }
   },
   "cell_type": "code",
   "source": "n_iter = 25",
   "id": "1ff57cf26b4d222c",
   "outputs": [],
   "execution_count": 2
  },
  {
   "metadata": {
    "ExecuteTime": {
     "end_time": "2025-02-05T17:38:01.856810Z",
     "start_time": "2025-02-05T17:38:01.854917Z"
    }
   },
   "cell_type": "code",
   "source": [
    "num_to_letter = {0: 'A', 1: 'B', 2: 'C', 3: 'D', 4: 'E', 5: 'F', -1: ''}\n",
    "vectorized_conversion = np.vectorize(num_to_letter.get)\n",
    "\n",
    "# Label students 0,...,3 as Student A,...,D"
   ],
   "id": "3925b1971701de10",
   "outputs": [],
   "execution_count": 3
  },
  {
   "metadata": {
    "ExecuteTime": {
     "end_time": "2025-02-05T17:38:33.942235Z",
     "start_time": "2025-02-05T17:38:33.939086Z"
    }
   },
   "cell_type": "code",
   "source": [
    "def compute_iterations(sim):\n",
    "    \"\"\"\n",
    "    :param sim: TaiwanMechanism instance\n",
    "    :return: integer representing the iteration at which the simulation stabilizes, numpy array of reports, numpy array of assignments\n",
    "    \"\"\"\n",
    "    stu = sim.students\n",
    "    sch = sim.schools\n",
    "\n",
    "    sim.stu_report = sim.stu_pref.copy()\n",
    "    sosm_indices = np.full(stu, np.nan)\n",
    "    for j in range(stu):\n",
    "        sosm_indices[j] = np.where(sim.stu_pref[j] == sim.stu_opt[j])[0][0]\n",
    "\n",
    "    reports_t = np.full((n_iter, stu, sch), np.nan)\n",
    "    assignments_t = np.full((n_iter, stu), np.nan)\n",
    "    indices_t = np.full((n_iter, stu), np.nan)\n",
    "    for t in range(n_iter):\n",
    "        if t == 0:\n",
    "            sim.stu_report = sim.stu_pref.copy()\n",
    "        reports_t[t] = sim.stu_report.copy()\n",
    "        assignments_t[t] = sim.assign()\n",
    "        sim.smart_adjustment()\n",
    "    for j in range(stu):\n",
    "        for t in range(n_iter):\n",
    "            if assignments_t[t, j] == -1:\n",
    "                indices_t[t, j] = -1\n",
    "            else:\n",
    "                indices_t[t, j] = np.where(sim.stu_pref[j] == assignments_t[t, j])[0][0]\n",
    "\n",
    "    turned_stable = n_iter\n",
    "    for t in range(1, n_iter):\n",
    "        if np.all(reports_t[t] == reports_t[t-1]):\n",
    "            turned_stable = min(turned_stable, t)\n",
    "        else:\n",
    "            turned_stable = n_iter\n",
    "    return turned_stable, reports_t, assignments_t\n"
   ],
   "id": "90e0415608158920",
   "outputs": [],
   "execution_count": 9
  },
  {
   "metadata": {
    "ExecuteTime": {
     "end_time": "2025-02-05T17:52:27.904689Z",
     "start_time": "2025-02-05T17:52:27.897280Z"
    }
   },
   "cell_type": "code",
   "source": [
    "def print_tables(sim, stu_reports, assign, stable_round):\n",
    "    stu_labels = np.array([f\"Student {vectorized_conversion(i)}\" for i in range(sim.students)])\n",
    "    school_labels = np.array([f\"School {i+1}\" for i in range(sim.schools)])\n",
    "\n",
    "    print(f\"Student preferences: \\n\")\n",
    "    student_prefs = sim.stu_pref + 1\n",
    "    student_prefs = np.column_stack((stu_labels, student_prefs))\n",
    "    print(tabulate(student_prefs, tablefmt=\"latex\"))\n",
    "    print(f'\\n')\n",
    "\n",
    "    print(f\"Unadjusted scores: \\n\")\n",
    "    scores = np.round(sim.compute_rankings(sim.stu_pref, da=True, return_scores=True), 1)\n",
    "    scores = np.column_stack((school_labels, scores))\n",
    "    print(tabulate(scores, tablefmt=\"latex\"))\n",
    "    print(f'\\n')\n",
    "\n",
    "    print(f'School preferences: \\n')\n",
    "    school_prefs = sim.compute_rankings(stu_reports[0], da=True, return_dict=False)\n",
    "    school_prefs = vectorized_conversion(school_prefs)\n",
    "    school_prefs = np.column_stack((school_labels, school_prefs)).astype(str)\n",
    "    print(tabulate(school_prefs, tablefmt=\"latex\"))\n",
    "    print(f'\\n')\n",
    "\n",
    "    print(f'SOSM: \\n')\n",
    "    print(sim.stu_opt + 1)\n",
    "    print(f'\\n')\n",
    "\n",
    "    for curr_round in range(stable_round):\n",
    "        print(f\"Round {curr_round+1}\")\n",
    "        curr_rep = stu_reports[curr_round] + 1\n",
    "        curr_rep = curr_rep.astype(int).astype(str)\n",
    "        curr_rep[curr_rep == '0'] = ''\n",
    "        curr_rep = np.column_stack((stu_labels, curr_rep))\n",
    "        print(f'Student reports: \\n')\n",
    "        print(tabulate(curr_rep, tablefmt=\"latex\"))\n",
    "        print(f'\\n')\n",
    "\n",
    "        adj_scores = np.round(sim.compute_rankings(stu_reports[curr_round],return_scores=True), 1).astype(str)\n",
    "        adj_scores[adj_scores == '-0'] = '0'\n",
    "        adj_scores[adj_scores == '-990.0'] = ''\n",
    "\n",
    "        sch_prefs = sim.compute_rankings(stu_reports[curr_round], da=False, return_dict=False)\n",
    "        for i in range(adj_scores.shape[0]):\n",
    "            for j in range(adj_scores.shape[1]):\n",
    "                if adj_scores[i, j] == '':\n",
    "                    sch_prefs[i][np.where(sch_prefs[i] == j)[0]] = -1\n",
    "        sch_prefs = vectorized_conversion(sch_prefs)\n",
    "\n",
    "        sch_prefs = np.column_stack((school_labels, sch_prefs)).astype(str)\n",
    "        adj_scores = np.column_stack((school_labels, adj_scores))\n",
    "\n",
    "        print(f'Adjusted scores: \\n')\n",
    "        print(tabulate(adj_scores, tablefmt=\"latex\"))\n",
    "        print(f'\\n')\n",
    "        print(f'School preferences: \\n')\n",
    "        print(tabulate(sch_prefs, tablefmt=\"latex\"))\n",
    "        print(f'\\n')\n",
    "\n",
    "        print(f'Assignment: \\n')\n",
    "        print(assign[curr_round] + 1)\n",
    "        print(f'\\n')\n",
    "\n"
   ],
   "id": "ac3e497ca4bccb94",
   "outputs": [],
   "execution_count": 55
  },
  {
   "metadata": {},
   "cell_type": "markdown",
   "source": "## CPM counterexample",
   "id": "5bcd095df19053aa"
  },
  {
   "metadata": {
    "ExecuteTime": {
     "end_time": "2025-02-05T17:48:48.110554Z",
     "start_time": "2025-02-05T17:48:48.108311Z"
    }
   },
   "cell_type": "code",
   "source": [
    "schools = 4\n",
    "students = 4\n",
    "cap = students // schools\n",
    "rho = 0.5\n",
    "deduct = np.array([0.0, 0.0, 3.0, 3.0])\n",
    "\n",
    "student_pref = np.array([\n",
    "        [0, 1, 2, 3],\n",
    "        [0, 1, 3, 2],\n",
    "        [2, 1, 0, 3],\n",
    "        [1, 0, 2, 3]\n",
    "    ])\n",
    "\n",
    "school_pref_params = np.array([\n",
    "    [0.9, 1.4, 0.4, 1.8],\n",
    "    [1.6, 0.9, 0.7, 1.4],\n",
    "    [0.9, 0.5, 0.4, 1.0],\n",
    "    [0.9, 0.5, 1.3, 1.0]\n",
    "])"
   ],
   "id": "f95453695107e159",
   "outputs": [],
   "execution_count": 46
  },
  {
   "metadata": {
    "ExecuteTime": {
     "end_time": "2025-02-05T17:48:48.710772Z",
     "start_time": "2025-02-05T17:48:48.707141Z"
    }
   },
   "cell_type": "code",
   "source": [
    "cpm_sim = TaiwanMechanism(schools, students, rho=rho, deduct=deduct, cap=cap,\n",
    "                          student_pref=student_pref, student_rep=None,\n",
    "                          school_pref_type='manual', school_pref_params=school_pref_params,\n",
    "                          comp_opt=False)"
   ],
   "id": "a425aad608e2b27e",
   "outputs": [],
   "execution_count": 47
  },
  {
   "metadata": {
    "ExecuteTime": {
     "end_time": "2025-02-05T17:48:49.364170Z",
     "start_time": "2025-02-05T17:48:49.354170Z"
    }
   },
   "cell_type": "code",
   "source": "turned_stable_cpm, reports_cpm, assignments_cpm = compute_iterations(cpm_sim)",
   "id": "4446260eaef6f73f",
   "outputs": [],
   "execution_count": 48
  },
  {
   "metadata": {
    "ExecuteTime": {
     "end_time": "2025-02-05T17:48:50.142387Z",
     "start_time": "2025-02-05T17:48:50.138587Z"
    }
   },
   "cell_type": "code",
   "source": "turned_stable_cpm",
   "id": "216f94628d80cd9c",
   "outputs": [
    {
     "data": {
      "text/plain": [
       "2"
      ]
     },
     "execution_count": 49,
     "metadata": {},
     "output_type": "execute_result"
    }
   ],
   "execution_count": 49
  },
  {
   "metadata": {
    "ExecuteTime": {
     "end_time": "2025-02-05T17:48:54.324659Z",
     "start_time": "2025-02-05T17:48:54.322277Z"
    }
   },
   "cell_type": "code",
   "source": "assert turned_stable_cpm < n_iter",
   "id": "4d0bd5c52f4153dd",
   "outputs": [],
   "execution_count": 50
  },
  {
   "metadata": {
    "ExecuteTime": {
     "end_time": "2025-02-05T17:50:20.758623Z",
     "start_time": "2025-02-05T17:50:20.755742Z"
    }
   },
   "cell_type": "code",
   "source": "reports_cpm[0:turned_stable_cpm]+1",
   "id": "b7fa0f186c8e6284",
   "outputs": [
    {
     "data": {
      "text/plain": [
       "array([[[1., 2., 3., 4.],\n",
       "        [1., 2., 4., 3.],\n",
       "        [3., 2., 1., 4.],\n",
       "        [2., 1., 3., 4.]],\n",
       "\n",
       "       [[1., 2., 3., 4.],\n",
       "        [2., 4., 3., 0.],\n",
       "        [3., 2., 1., 4.],\n",
       "        [2., 1., 3., 4.]]])"
      ]
     },
     "execution_count": 52,
     "metadata": {},
     "output_type": "execute_result"
    }
   ],
   "execution_count": 52
  },
  {
   "metadata": {
    "ExecuteTime": {
     "end_time": "2025-02-05T17:50:43.262187Z",
     "start_time": "2025-02-05T17:50:43.258978Z"
    }
   },
   "cell_type": "code",
   "source": "assignments_cpm[0:turned_stable_cpm]+1",
   "id": "55764ca4651c8d00",
   "outputs": [
    {
     "data": {
      "text/plain": [
       "array([[2., 4., 3., 1.],\n",
       "       [1., 4., 3., 2.]])"
      ]
     },
     "execution_count": 54,
     "metadata": {},
     "output_type": "execute_result"
    }
   ],
   "execution_count": 54
  },
  {
   "metadata": {},
   "cell_type": "markdown",
   "source": "### Generate tables",
   "id": "efce099e9fc90bc1"
  },
  {
   "metadata": {
    "ExecuteTime": {
     "end_time": "2025-02-05T17:52:33.574562Z",
     "start_time": "2025-02-05T17:52:33.566643Z"
    }
   },
   "cell_type": "code",
   "source": [
    "print_tables(\n",
    "    cpm_sim,\n",
    "    reports_cpm,\n",
    "    assignments_cpm,\n",
    "    turned_stable_cpm\n",
    ")"
   ],
   "id": "2079ce7e651b3eb1",
   "outputs": [
    {
     "name": "stdout",
     "output_type": "stream",
     "text": [
      "Student preferences: \n",
      "\n",
      "\\begin{tabular}{lrrrr}\n",
      "\\hline\n",
      " Student A & 1 & 2 & 3 & 4 \\\\\n",
      " Student B & 1 & 2 & 4 & 3 \\\\\n",
      " Student C & 3 & 2 & 1 & 4 \\\\\n",
      " Student D & 2 & 1 & 3 & 4 \\\\\n",
      "\\hline\n",
      "\\end{tabular}\n",
      "\n",
      "\n",
      "Unadjusted scores: \n",
      "\n",
      "\\begin{tabular}{lrrrr}\n",
      "\\hline\n",
      " School 1 & 0.9 & 1.4 & 0.4 & 1.8 \\\\\n",
      " School 2 & 1.6 & 0.9 & 0.7 & 1.4 \\\\\n",
      " School 3 & 0.9 & 0.5 & 0.4 & 1   \\\\\n",
      " School 4 & 0.9 & 0.5 & 1.3 & 1   \\\\\n",
      "\\hline\n",
      "\\end{tabular}\n",
      "\n",
      "\n",
      "School preferences: \n",
      "\n",
      "\\begin{tabular}{lllll}\n",
      "\\hline\n",
      " School 1 & D & B & A & C \\\\\n",
      " School 2 & A & D & B & C \\\\\n",
      " School 3 & D & A & B & C \\\\\n",
      " School 4 & C & D & A & B \\\\\n",
      "\\hline\n",
      "\\end{tabular}\n",
      "\n",
      "\n",
      "SOSM: \n",
      "\n",
      "[2 4 3 1]\n",
      "\n",
      "\n",
      "Round 1\n",
      "Student reports: \n",
      "\n",
      "\\begin{tabular}{lrrrr}\n",
      "\\hline\n",
      " Student A & 1 & 2 & 3 & 4 \\\\\n",
      " Student B & 1 & 2 & 4 & 3 \\\\\n",
      " Student C & 3 & 2 & 1 & 4 \\\\\n",
      " Student D & 2 & 1 & 3 & 4 \\\\\n",
      "\\hline\n",
      "\\end{tabular}\n",
      "\n",
      "\n",
      "Adjusted scores: \n",
      "\n",
      "\\begin{tabular}{lrrrr}\n",
      "\\hline\n",
      " School 1 &  0.9 &  1.4 & -2.6 &  1.8 \\\\\n",
      " School 2 &  1.6 &  0.9 &  0.7 &  1.4 \\\\\n",
      " School 3 & -2.1 & -2.5 &  0.4 & -2   \\\\\n",
      " School 4 & -2.1 & -2.5 & -1.7 & -2   \\\\\n",
      "\\hline\n",
      "\\end{tabular}\n",
      "\n",
      "\n",
      "School preferences: \n",
      "\n",
      "\\begin{tabular}{lllll}\n",
      "\\hline\n",
      " School 1 & D & B & A & C \\\\\n",
      " School 2 & A & D & B & C \\\\\n",
      " School 3 & C & D & A & B \\\\\n",
      " School 4 & C & D & A & B \\\\\n",
      "\\hline\n",
      "\\end{tabular}\n",
      "\n",
      "\n",
      "Assignment: \n",
      "\n",
      "[2. 4. 3. 1.]\n",
      "\n",
      "\n",
      "Round 2\n",
      "Student reports: \n",
      "\n",
      "\\begin{tabular}{lrrrl}\n",
      "\\hline\n",
      " Student A & 1 & 2 & 3 & 4 \\\\\n",
      " Student B & 2 & 4 & 3 &   \\\\\n",
      " Student C & 3 & 2 & 1 & 4 \\\\\n",
      " Student D & 2 & 1 & 3 & 4 \\\\\n",
      "\\hline\n",
      "\\end{tabular}\n",
      "\n",
      "\n",
      "Adjusted scores: \n",
      "\n",
      "\\begin{tabular}{lrlrr}\n",
      "\\hline\n",
      " School 1 &  0.9 &      & -2.6 &  1.8 \\\\\n",
      " School 2 &  1.6 & 0.9  &  0.7 &  1.4 \\\\\n",
      " School 3 & -2.1 & -2.5 &  0.4 & -2   \\\\\n",
      " School 4 & -2.1 & 0.5  & -1.7 & -2   \\\\\n",
      "\\hline\n",
      "\\end{tabular}\n",
      "\n",
      "\n",
      "School preferences: \n",
      "\n",
      "\\begin{tabular}{lllll}\n",
      "\\hline\n",
      " School 1 & D & A & C &   \\\\\n",
      " School 2 & A & D & B & C \\\\\n",
      " School 3 & C & D & A & B \\\\\n",
      " School 4 & B & C & D & A \\\\\n",
      "\\hline\n",
      "\\end{tabular}\n",
      "\n",
      "\n",
      "Assignment: \n",
      "\n",
      "[1. 4. 3. 2.]\n",
      "\n",
      "\n"
     ]
    }
   ],
   "execution_count": 56
  },
  {
   "metadata": {},
   "cell_type": "markdown",
   "source": "## TAM counterexample",
   "id": "a9100105bf4a5a61"
  },
  {
   "metadata": {
    "ExecuteTime": {
     "end_time": "2025-02-05T17:56:56.457208Z",
     "start_time": "2025-02-05T17:56:56.454026Z"
    }
   },
   "cell_type": "code",
   "source": [
    "schools = 4\n",
    "students = 4\n",
    "cap = students // schools\n",
    "rho = 0.5\n",
    "deduct = np.array([0.0, 0.3, 0.5, 0.8])\n",
    "\n",
    "student_pref = np.array([\n",
    "        [2, 0, 1, 3],\n",
    "        [0, 1, 2, 3],\n",
    "        [0, 1, 2, 3],\n",
    "        [1, 3, 0, 2]\n",
    "    ])\n",
    "\n",
    "school_pref_params = np.array([\n",
    "    [0.2, 1.2, 0.7, 1.1],\n",
    "    [1.2, 1.7, 0.7, 0.5],\n",
    "    [0.2, 0.8, 1.2, 0.5],\n",
    "    [0.6, 0.8, 1.1, 0.5]\n",
    "])"
   ],
   "id": "fa2503e193dca836",
   "outputs": [],
   "execution_count": 57
  },
  {
   "metadata": {
    "ExecuteTime": {
     "end_time": "2025-02-05T17:57:15.829174Z",
     "start_time": "2025-02-05T17:57:15.826379Z"
    }
   },
   "cell_type": "code",
   "source": [
    "tam_sim = TaiwanMechanism(schools, students, rho=rho, deduct=deduct, cap=cap,\n",
    "                          student_pref=student_pref, student_rep=None,\n",
    "                          school_pref_type='manual', school_pref_params=school_pref_params,\n",
    "                          comp_opt=False)"
   ],
   "id": "37413b22096e13fb",
   "outputs": [],
   "execution_count": 58
  },
  {
   "metadata": {
    "ExecuteTime": {
     "end_time": "2025-02-05T17:57:39.133248Z",
     "start_time": "2025-02-05T17:57:39.121637Z"
    }
   },
   "cell_type": "code",
   "source": "turned_stable_tam, reports_tam, assignments_tam = compute_iterations(tam_sim)",
   "id": "57fd0f347453ddd2",
   "outputs": [],
   "execution_count": 59
  },
  {
   "metadata": {
    "ExecuteTime": {
     "end_time": "2025-02-05T17:57:46.765318Z",
     "start_time": "2025-02-05T17:57:46.763220Z"
    }
   },
   "cell_type": "code",
   "source": "assert turned_stable_tam < n_iter",
   "id": "fd3c2fc1b323227d",
   "outputs": [],
   "execution_count": 60
  },
  {
   "metadata": {
    "ExecuteTime": {
     "end_time": "2025-02-05T17:58:10.164117Z",
     "start_time": "2025-02-05T17:58:10.160922Z"
    }
   },
   "cell_type": "code",
   "source": "turned_stable_cpm",
   "id": "16ea840f40ecae53",
   "outputs": [
    {
     "data": {
      "text/plain": [
       "2"
      ]
     },
     "execution_count": 61,
     "metadata": {},
     "output_type": "execute_result"
    }
   ],
   "execution_count": 61
  },
  {
   "metadata": {},
   "cell_type": "markdown",
   "source": "### Generate tables",
   "id": "4d0bca574c86fe77"
  },
  {
   "metadata": {
    "ExecuteTime": {
     "end_time": "2025-02-05T17:58:42.570422Z",
     "start_time": "2025-02-05T17:58:42.565099Z"
    }
   },
   "cell_type": "code",
   "source": [
    "print_tables(\n",
    "    tam_sim,\n",
    "    reports_tam,\n",
    "    assignments_tam,\n",
    "    turned_stable_tam\n",
    ")"
   ],
   "id": "46aebd424e84b18c",
   "outputs": [
    {
     "name": "stdout",
     "output_type": "stream",
     "text": [
      "Student preferences: \n",
      "\n",
      "\\begin{tabular}{lrrrr}\n",
      "\\hline\n",
      " Student A & 3 & 1 & 2 & 4 \\\\\n",
      " Student B & 1 & 2 & 3 & 4 \\\\\n",
      " Student C & 1 & 2 & 3 & 4 \\\\\n",
      " Student D & 2 & 4 & 1 & 3 \\\\\n",
      "\\hline\n",
      "\\end{tabular}\n",
      "\n",
      "\n",
      "Unadjusted scores: \n",
      "\n",
      "\\begin{tabular}{lrrrr}\n",
      "\\hline\n",
      " School 1 & 0.2 & 1.2 & 0.7 & 1.1 \\\\\n",
      " School 2 & 1.2 & 1.7 & 0.7 & 0.5 \\\\\n",
      " School 3 & 0.2 & 0.8 & 1.2 & 0.5 \\\\\n",
      " School 4 & 0.6 & 0.8 & 1.1 & 0.5 \\\\\n",
      "\\hline\n",
      "\\end{tabular}\n",
      "\n",
      "\n",
      "School preferences: \n",
      "\n",
      "\\begin{tabular}{lllll}\n",
      "\\hline\n",
      " School 1 & B & D & C & A \\\\\n",
      " School 2 & B & A & C & D \\\\\n",
      " School 3 & C & B & D & A \\\\\n",
      " School 4 & C & B & A & D \\\\\n",
      "\\hline\n",
      "\\end{tabular}\n",
      "\n",
      "\n",
      "SOSM: \n",
      "\n",
      "[3 1 2 4]\n",
      "\n",
      "\n",
      "Round 1\n",
      "Student reports: \n",
      "\n",
      "\\begin{tabular}{lrrrr}\n",
      "\\hline\n",
      " Student A & 3 & 1 & 2 & 4 \\\\\n",
      " Student B & 1 & 2 & 3 & 4 \\\\\n",
      " Student C & 1 & 2 & 3 & 4 \\\\\n",
      " Student D & 2 & 4 & 1 & 3 \\\\\n",
      "\\hline\n",
      "\\end{tabular}\n",
      "\n",
      "\n",
      "Adjusted scores: \n",
      "\n",
      "\\begin{tabular}{lrrrr}\n",
      "\\hline\n",
      " School 1 & -0.1 & 1.2 & 0.7 &  0.6 \\\\\n",
      " School 2 &  0.7 & 1.4 & 0.4 &  0.5 \\\\\n",
      " School 3 &  0.2 & 0.3 & 0.7 & -0.3 \\\\\n",
      " School 4 & -0.2 & 0   & 0.3 &  0.2 \\\\\n",
      "\\hline\n",
      "\\end{tabular}\n",
      "\n",
      "\n",
      "School preferences: \n",
      "\n",
      "\\begin{tabular}{lllll}\n",
      "\\hline\n",
      " School 1 & B & C & D & A \\\\\n",
      " School 2 & B & A & D & C \\\\\n",
      " School 3 & C & B & A & D \\\\\n",
      " School 4 & C & D & B & A \\\\\n",
      "\\hline\n",
      "\\end{tabular}\n",
      "\n",
      "\n",
      "Assignment: \n",
      "\n",
      "[2. 1. 3. 4.]\n",
      "\n",
      "\n",
      "Round 2\n",
      "Student reports: \n",
      "\n",
      "\\begin{tabular}{lrrrl}\n",
      "\\hline\n",
      " Student A & 1 & 2 & 4 &   \\\\\n",
      " Student B & 1 & 2 & 3 & 4 \\\\\n",
      " Student C & 2 & 3 & 4 &   \\\\\n",
      " Student D & 2 & 4 & 1 & 3 \\\\\n",
      "\\hline\n",
      "\\end{tabular}\n",
      "\n",
      "\n",
      "Adjusted scores: \n",
      "\n",
      "\\begin{tabular}{llrlr}\n",
      "\\hline\n",
      " School 1 & 0.2 & 1.2 &     &  0.6 \\\\\n",
      " School 2 & 0.9 & 1.4 & 0.7 &  0.5 \\\\\n",
      " School 3 &     & 0.3 & 0.9 & -0.3 \\\\\n",
      " School 4 & 0.1 & 0   & 0.6 &  0.2 \\\\\n",
      "\\hline\n",
      "\\end{tabular}\n",
      "\n",
      "\n",
      "School preferences: \n",
      "\n",
      "\\begin{tabular}{lllll}\n",
      "\\hline\n",
      " School 1 & B & D & A &   \\\\\n",
      " School 2 & B & A & C & D \\\\\n",
      " School 3 & C & B & D &   \\\\\n",
      " School 4 & C & D & A & B \\\\\n",
      "\\hline\n",
      "\\end{tabular}\n",
      "\n",
      "\n",
      "Assignment: \n",
      "\n",
      "[2. 1. 3. 4.]\n",
      "\n",
      "\n"
     ]
    }
   ],
   "execution_count": 62
  },
  {
   "metadata": {},
   "cell_type": "code",
   "outputs": [],
   "execution_count": null,
   "source": "",
   "id": "67b90596b8acd782"
  }
 ],
 "metadata": {
  "kernelspec": {
   "display_name": "Python 3",
   "language": "python",
   "name": "python3"
  },
  "language_info": {
   "codemirror_mode": {
    "name": "ipython",
    "version": 2
   },
   "file_extension": ".py",
   "mimetype": "text/x-python",
   "name": "python",
   "nbconvert_exporter": "python",
   "pygments_lexer": "ipython2",
   "version": "2.7.6"
  }
 },
 "nbformat": 4,
 "nbformat_minor": 5
}
